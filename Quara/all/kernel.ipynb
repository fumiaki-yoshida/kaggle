{
  "cells": [
    {
      "metadata": {
        "_uuid": "8f2839f25d086af736a60e9eeb907d3b93b6e0e5",
        "_cell_guid": "b1076dfc-b9ad-4769-8c92-a6c4dae69d19",
        "trusted": true
      },
      "cell_type": "code",
      "source": "# This Python 3 environment comes with many helpful analytics libraries installed\n# It is defined by the kaggle/python docker image: https://github.com/kaggle/docker-python\n# For example, here's several helpful packages to load in \n\nimport numpy as np # linear algebra\nimport pandas as pd # data processing, CSV file I/O (e.g. pd.read_csv)\n\n# Input data files are available in the \"../input/\" directory.\n# For example, running this (by clicking run or pressing Shift+Enter) will list the files in the input directory\n\nimport os\nprint(os.listdir(\"../input\"))\n\n# Any results you write to the current directory are saved as output.",
      "execution_count": 1,
      "outputs": [
        {
          "output_type": "stream",
          "text": "['embeddings', 'train.csv', 'sample_submission.csv', 'test.csv']\n",
          "name": "stdout"
        }
      ]
    },
    {
      "metadata": {
        "_cell_guid": "79c7e3d0-c299-4dcb-8224-4455121ee9b0",
        "_uuid": "d629ff2d2480ee46fbb7e2d37f6b5fab8052498a",
        "trusted": true
      },
      "cell_type": "code",
      "source": "import pandas as pd\n\nimport gensim\nfrom gensim.models.doc2vec import TaggedDocument",
      "execution_count": 2,
      "outputs": []
    },
    {
      "metadata": {
        "trusted": true,
        "_uuid": "982eeeb41999ea2c5ef3cb1c1bded7fe955549d1"
      },
      "cell_type": "code",
      "source": "train_csv = \"../input/train.csv\"\ntest_csv = \"../input/test.csv\"\ntrain_df = pd.read_csv(train_csv)\ntest_df = pd.read_csv(test_csv)\ntrain_df.head()",
      "execution_count": 3,
      "outputs": [
        {
          "output_type": "execute_result",
          "execution_count": 3,
          "data": {
            "text/plain": "                    qid  ...   target\n0  00002165364db923c7e6  ...        0\n1  000032939017120e6e44  ...        0\n2  0000412ca6e4628ce2cf  ...        0\n3  000042bf85aa498cd78e  ...        0\n4  0000455dfa3e01eae3af  ...        0\n\n[5 rows x 3 columns]",
            "text/html": "<div>\n<style scoped>\n    .dataframe tbody tr th:only-of-type {\n        vertical-align: middle;\n    }\n\n    .dataframe tbody tr th {\n        vertical-align: top;\n    }\n\n    .dataframe thead th {\n        text-align: right;\n    }\n</style>\n<table border=\"1\" class=\"dataframe\">\n  <thead>\n    <tr style=\"text-align: right;\">\n      <th></th>\n      <th>qid</th>\n      <th>question_text</th>\n      <th>target</th>\n    </tr>\n  </thead>\n  <tbody>\n    <tr>\n      <th>0</th>\n      <td>00002165364db923c7e6</td>\n      <td>How did Quebec nationalists see their province...</td>\n      <td>0</td>\n    </tr>\n    <tr>\n      <th>1</th>\n      <td>000032939017120e6e44</td>\n      <td>Do you have an adopted dog, how would you enco...</td>\n      <td>0</td>\n    </tr>\n    <tr>\n      <th>2</th>\n      <td>0000412ca6e4628ce2cf</td>\n      <td>Why does velocity affect time? Does velocity a...</td>\n      <td>0</td>\n    </tr>\n    <tr>\n      <th>3</th>\n      <td>000042bf85aa498cd78e</td>\n      <td>How did Otto von Guericke used the Magdeburg h...</td>\n      <td>0</td>\n    </tr>\n    <tr>\n      <th>4</th>\n      <td>0000455dfa3e01eae3af</td>\n      <td>Can I convert montra helicon D to a mountain b...</td>\n      <td>0</td>\n    </tr>\n  </tbody>\n</table>\n</div>"
          },
          "metadata": {}
        }
      ]
    },
    {
      "metadata": {
        "trusted": true,
        "_uuid": "88562f2e910a69237d4556a6bcf94b42274caf47",
        "scrolled": true
      },
      "cell_type": "code",
      "source": "test_df.head()",
      "execution_count": 4,
      "outputs": [
        {
          "output_type": "execute_result",
          "execution_count": 4,
          "data": {
            "text/plain": "                    qid                                      question_text\n0  00014894849d00ba98a9  My voice range is A2-C5. My chest voice goes u...\n1  000156468431f09b3cae           How much does a tutor earn in Bangalore?\n2  000227734433360e1aae  What are the best made pocket knives under $20...\n3  0005e06fbe3045bd2a92  Why would they add a hypothetical scenario tha...\n4  00068a0f7f41f50fc399   What is the dresscode for Techmahindra freshers?",
            "text/html": "<div>\n<style scoped>\n    .dataframe tbody tr th:only-of-type {\n        vertical-align: middle;\n    }\n\n    .dataframe tbody tr th {\n        vertical-align: top;\n    }\n\n    .dataframe thead th {\n        text-align: right;\n    }\n</style>\n<table border=\"1\" class=\"dataframe\">\n  <thead>\n    <tr style=\"text-align: right;\">\n      <th></th>\n      <th>qid</th>\n      <th>question_text</th>\n    </tr>\n  </thead>\n  <tbody>\n    <tr>\n      <th>0</th>\n      <td>00014894849d00ba98a9</td>\n      <td>My voice range is A2-C5. My chest voice goes u...</td>\n    </tr>\n    <tr>\n      <th>1</th>\n      <td>000156468431f09b3cae</td>\n      <td>How much does a tutor earn in Bangalore?</td>\n    </tr>\n    <tr>\n      <th>2</th>\n      <td>000227734433360e1aae</td>\n      <td>What are the best made pocket knives under $20...</td>\n    </tr>\n    <tr>\n      <th>3</th>\n      <td>0005e06fbe3045bd2a92</td>\n      <td>Why would they add a hypothetical scenario tha...</td>\n    </tr>\n    <tr>\n      <th>4</th>\n      <td>00068a0f7f41f50fc399</td>\n      <td>What is the dresscode for Techmahindra freshers?</td>\n    </tr>\n  </tbody>\n</table>\n</div>"
          },
          "metadata": {}
        }
      ]
    },
    {
      "metadata": {
        "trusted": true,
        "_uuid": "c3701914b079ceff3e28b47284f6bd6541c22b08"
      },
      "cell_type": "code",
      "source": "from nltk.corpus import stopwords\nfrom nltk.stem import WordNetLemmatizer, PorterStemmer\nfrom nltk.tokenize import word_tokenize, sent_tokenize, TweetTokenizer\nimport re",
      "execution_count": 5,
      "outputs": []
    },
    {
      "metadata": {
        "trusted": true,
        "_uuid": "9d15ff0a54cfa3a326b56360e5e5a307bb0b5d0c"
      },
      "cell_type": "code",
      "source": "def remove_stopwords(words):\n    stop_words = set(stopwords.words(\"english\"))\n    return [word for word in words if word not in stop_words]\n\ndef remove_punctuation(text):\n    return re.sub(r'[^\\w\\s]', '', text)\n\ndef lemmatize_text(words):\n    lemmatizer = WordNetLemmatizer()\n    return [lemmatizer.lemmatize(word) for word in words]\n\ndef stem_text(words):\n    ps = PorterStemmer()\n    return [ps.stem(word) for word in words]",
      "execution_count": 6,
      "outputs": []
    },
    {
      "metadata": {
        "trusted": true,
        "_uuid": "990621c4772d1b925d7c3c4d237457e4ac827b67"
      },
      "cell_type": "code",
      "source": "%%time\n# Removing punctuation\ntrain_df[\"question_text\"] = train_df[\"question_text\"].apply(lambda x: remove_punctuation(x))\ntest_df[\"question_text\"] = test_df[\"question_text\"].apply(lambda x: remove_punctuation(x))\n\n# Tokenizing the text\ntrain_df[\"question_text\"] = train_df[\"question_text\"].apply(lambda x: word_tokenize(x))\ntest_df[\"question_text\"] = test_df[\"question_text\"].apply(lambda x: word_tokenize(x))\n\n# Removing stopwords\n# train_df[\"question_text\"] = train_df[\"question_text\"].apply(lambda x: remove_stopwords(x))\n# test_df[\"question_text\"] = test_df[\"question_text\"].apply(lambda x: remove_stopwords(x))\n\n# Lemmatizting\ntrain_df[\"question_text\"] = train_df[\"question_text\"].apply(lambda x: lemmatize_text(x))\ntest_df[\"question_text\"] = test_df[\"question_text\"].apply(lambda x: lemmatize_text(x))",
      "execution_count": 7,
      "outputs": [
        {
          "output_type": "stream",
          "text": "CPU times: user 4min, sys: 1.88 s, total: 4min 2s\nWall time: 4min 2s\n",
          "name": "stdout"
        }
      ]
    },
    {
      "metadata": {
        "trusted": true,
        "_uuid": "2d4c582fe52077815093e4af092c82c0e237e70a"
      },
      "cell_type": "code",
      "source": "train_df.head()",
      "execution_count": 8,
      "outputs": [
        {
          "output_type": "execute_result",
          "execution_count": 8,
          "data": {
            "text/plain": "                    qid  ...   target\n0  00002165364db923c7e6  ...        0\n1  000032939017120e6e44  ...        0\n2  0000412ca6e4628ce2cf  ...        0\n3  000042bf85aa498cd78e  ...        0\n4  0000455dfa3e01eae3af  ...        0\n\n[5 rows x 3 columns]",
            "text/html": "<div>\n<style scoped>\n    .dataframe tbody tr th:only-of-type {\n        vertical-align: middle;\n    }\n\n    .dataframe tbody tr th {\n        vertical-align: top;\n    }\n\n    .dataframe thead th {\n        text-align: right;\n    }\n</style>\n<table border=\"1\" class=\"dataframe\">\n  <thead>\n    <tr style=\"text-align: right;\">\n      <th></th>\n      <th>qid</th>\n      <th>question_text</th>\n      <th>target</th>\n    </tr>\n  </thead>\n  <tbody>\n    <tr>\n      <th>0</th>\n      <td>00002165364db923c7e6</td>\n      <td>[How, did, Quebec, nationalist, see, their, pr...</td>\n      <td>0</td>\n    </tr>\n    <tr>\n      <th>1</th>\n      <td>000032939017120e6e44</td>\n      <td>[Do, you, have, an, adopted, dog, how, would, ...</td>\n      <td>0</td>\n    </tr>\n    <tr>\n      <th>2</th>\n      <td>0000412ca6e4628ce2cf</td>\n      <td>[Why, doe, velocity, affect, time, Does, veloc...</td>\n      <td>0</td>\n    </tr>\n    <tr>\n      <th>3</th>\n      <td>000042bf85aa498cd78e</td>\n      <td>[How, did, Otto, von, Guericke, used, the, Mag...</td>\n      <td>0</td>\n    </tr>\n    <tr>\n      <th>4</th>\n      <td>0000455dfa3e01eae3af</td>\n      <td>[Can, I, convert, montra, helicon, D, to, a, m...</td>\n      <td>0</td>\n    </tr>\n  </tbody>\n</table>\n</div>"
          },
          "metadata": {}
        }
      ]
    },
    {
      "metadata": {
        "trusted": true,
        "_uuid": "199452812b712cf07d1a68376a97330eb057dc73"
      },
      "cell_type": "code",
      "source": "from gensim.models.doc2vec import TaggedDocument, Doc2Vec",
      "execution_count": 9,
      "outputs": []
    },
    {
      "metadata": {
        "trusted": true,
        "_uuid": "22b6665178e041c184a2eadae5f5103b8958a23f"
      },
      "cell_type": "code",
      "source": "%%time\ntrain_df[\"vector\"] = train_df[\"question_text\"].apply(lambda x:\n                    Doc2Vec(document=x,\n                            min_count=1,\n                             iter=55,\n                            vector_size=150))\n\ntest_df[\"vector\"] = train_df[\"question_text\"].apply(lambda x:\n                    Doc2Vec(document=x,\n                            min_count=1,\n                            iter=55,\n                            vector_size=150))",
      "execution_count": null,
      "outputs": []
    },
    {
      "metadata": {
        "trusted": true,
        "_uuid": "b71bfae36d32eb017f2fd3a6385bbfccc5ab684f"
      },
      "cell_type": "code",
      "source": "from sklearn.feature_extraction.text import TfidfVectorizer",
      "execution_count": null,
      "outputs": []
    },
    {
      "metadata": {
        "trusted": true,
        "_uuid": "c1aede728bae3bde6ec6408f650af086451790d9"
      },
      "cell_type": "code",
      "source": "\"\"\"\n%%time\nvectorizer = TfidfVectorizer(use_idf=True, binary=True)\ntrain_df[\"vector\"] = train_df[\"question_text\"].apply(lambda x: vectorizer.fit_transform(x))\ntest_df[\"vector\"] = test_df[\"question_text\"].apply(lambda x: vectorizer.fit_transform(x))\n\"\"\"\n\n# ValueError: empty vocabulary; perhaps the documents only contain stop words",
      "execution_count": null,
      "outputs": []
    },
    {
      "metadata": {
        "trusted": true,
        "scrolled": true,
        "_uuid": "57c36f1d3a3d4d3298c9180d736957b2bb10f416"
      },
      "cell_type": "code",
      "source": "from sklearn.linear_model import LogisticRegression\nfrom sklearn.model_selection import train_test_split",
      "execution_count": null,
      "outputs": []
    },
    {
      "metadata": {
        "trusted": true,
        "_uuid": "5ec3a2ac44b830fd8101f656821e875e9cbe1245"
      },
      "cell_type": "code",
      "source": "train_df.head()",
      "execution_count": null,
      "outputs": []
    },
    {
      "metadata": {
        "trusted": true,
        "scrolled": true,
        "_uuid": "3df9bccf8648a06413bbb0d091b061de8c2f6981"
      },
      "cell_type": "code",
      "source": "X_train, X_test, y_train, y_test = train_test_split(\n    train_df[\"vector\"], train_df[\"target\"], test_size=0.3)",
      "execution_count": null,
      "outputs": []
    },
    {
      "metadata": {
        "trusted": true,
        "_uuid": "0598e71bdd9f6f483b5dceaf3a78baae7973006e"
      },
      "cell_type": "code",
      "source": "lr = LogisticRegression()\nlr.fit(X_train, y_train)",
      "execution_count": null,
      "outputs": []
    },
    {
      "metadata": {
        "trusted": true,
        "_uuid": "7f599461070fe09db1c5fb5c6c45871747a3bc99"
      },
      "cell_type": "code",
      "source": "print(lr.score(X_test, y_test))",
      "execution_count": null,
      "outputs": []
    },
    {
      "metadata": {
        "trusted": true,
        "_uuid": "454405baf73d6056b023fd9bb127ab2dd0a64395"
      },
      "cell_type": "code",
      "source": "lr.fit(train_df[\"vector\"], train_df[\"target\"])\ny_predict = lr.predict(test_df[\"vector\"])\npredict = pd.Dataframe(data=y_predict, columns=[\"predictiion\"])\npredict = predict.astype(int)\n\nid = test_df[\"qid\"]\nid_df = pd.DataFrame(id)\n\nresult = id_df.join(predict)\nresult.to_csv(\"submission.csv\", index=False)",
      "execution_count": null,
      "outputs": []
    },
    {
      "metadata": {
        "trusted": true,
        "_uuid": "eb5834d6172b339777e57a6714a766429400b16d"
      },
      "cell_type": "code",
      "source": "",
      "execution_count": null,
      "outputs": []
    },
    {
      "metadata": {
        "trusted": true,
        "_uuid": "b0a2039ef318b52e3960130a3e1bf4010cb6701d"
      },
      "cell_type": "code",
      "source": "",
      "execution_count": null,
      "outputs": []
    }
  ],
  "metadata": {
    "kernelspec": {
      "display_name": "Python 3",
      "language": "python",
      "name": "python3"
    },
    "language_info": {
      "name": "python",
      "version": "3.6.6",
      "mimetype": "text/x-python",
      "codemirror_mode": {
        "name": "ipython",
        "version": 3
      },
      "pygments_lexer": "ipython3",
      "nbconvert_exporter": "python",
      "file_extension": ".py"
    }
  },
  "nbformat": 4,
  "nbformat_minor": 1
}